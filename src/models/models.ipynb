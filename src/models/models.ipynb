{
 "cells": [
  {
   "cell_type": "code",
   "execution_count": 1,
   "metadata": {},
   "outputs": [],
   "source": [
    "# ! pip install huggingface-hub"
   ]
  },
  {
   "cell_type": "code",
   "execution_count": 2,
   "metadata": {},
   "outputs": [
    {
     "name": "stdout",
     "output_type": "stream",
     "text": [
      "/Users/adebayobraimah/Desktop/projects/2025Spring_AI_Project/.env/lib/python3.11/site-packages/huggingface_hub/commands/download.py:139: FutureWarning: Ignoring --local-dir-use-symlinks. Downloading to a local directory does not use symlinks anymore.\n",
      "  warnings.warn(\n",
      "Downloading 'capybarahermes-2.5-mistral-7b.Q4_K_M.gguf' to '.cache/huggingface/download/BRJUpZM6M78T_YfGFHcIKqEmJIs=.ebcccbbfb03e50888cd780745dd61c1f3da02d385e78dbc2c5062dcdc5a5c9c8.incomplete'\n",
      "(…)apybarahermes-2.5-mistral-7b.Q4_K_M.gguf:  90%|▉| 3.94G/4.37G [19:47<00:22, 1Error while downloading from https://cdn-lfs-us-1.hf.co/repos/6f/af/6fafe23db56620de441f9be1dbdee6216648c45334551e8eaa20af1d3c06d360/ebcccbbfb03e50888cd780745dd61c1f3da02d385e78dbc2c5062dcdc5a5c9c8?response-content-disposition=inline%3B+filename*%3DUTF-8%27%27capybarahermes-2.5-mistral-7b.Q4_K_M.gguf%3B+filename%3D%22capybarahermes-2.5-mistral-7b.Q4_K_M.gguf%22%3B&Expires=1746555327&Policy=eyJTdGF0ZW1lbnQiOlt7IkNvbmRpdGlvbiI6eyJEYXRlTGVzc1RoYW4iOnsiQVdTOkVwb2NoVGltZSI6MTc0NjU1NTMyN319LCJSZXNvdXJjZSI6Imh0dHBzOi8vY2RuLWxmcy11cy0xLmhmLmNvL3JlcG9zLzZmL2FmLzZmYWZlMjNkYjU2NjIwZGU0NDFmOWJlMWRiZGVlNjIxNjY0OGM0NTMzNDU1MWU4ZWFhMjBhZjFkM2MwNmQzNjAvZWJjY2NiYmZiMDNlNTA4ODhjZDc4MDc0NWRkNjFjMWYzZGEwMmQzODVlNzhkYmMyYzUwNjJkY2RjNWE1YzljOD9yZXNwb25zZS1jb250ZW50LWRpc3Bvc2l0aW9uPSoifV19&Signature=VHVBz6%7EG8cpwW2WD8Ap4KAvxeMG4173loYERpUXdR9bfjO3BODIiEeC8ZapgR12kf-kFXFEYE-eCI2EnrsI-fczSynyGg8vUO-ycpPhMDFRiZSDOKB1Kbkr4cGMMuOXTRpLhM40A0TGFTjb06hnHW0veS2kuj8j80MUsva-rOr%7Eit6NjeHzTX8U1iE%7EXC%7EvmgY3Jev84fkrZ-pKauSLAJSVrPhv%7EGFNqqLXKhQnhMqK2gecmNGovIGYuo5BdztubPBQ-90LYYHaTM5VSKZ5T42pmdQgLHTDOcZHN37RnVqAkw3ijDHu5UttAh5EQdk83XL7CVXZ1LTuXzbMWLy6jcA__&Key-Pair-Id=K24J24Z295AEI9: HTTPSConnectionPool(host='cdn-lfs-us-1.hf.co', port=443): Read timed out.\n",
      "Trying to resume download...\n",
      "\n",
      "(…)apybarahermes-2.5-mistral-7b.Q4_K_M.gguf:  90%|▉| 3.94G/4.37G [00:00<?, ?B/s]\u001b[A\n",
      "(…)apybarahermes-2.5-mistral-7b.Q4_K_M.gguf:  90%|▉| 3.95G/4.37G [00:00<00:26, 1\u001b[A\n",
      "(…)apybarahermes-2.5-mistral-7b.Q4_K_M.gguf:  91%|▉| 3.96G/4.37G [00:01<00:23, 1\u001b[A\n",
      "(…)apybarahermes-2.5-mistral-7b.Q4_K_M.gguf:  91%|▉| 3.97G/4.37G [00:01<00:21, 1\u001b[A\n",
      "(…)apybarahermes-2.5-mistral-7b.Q4_K_M.gguf:  91%|▉| 3.98G/4.37G [00:02<00:20, 1\u001b[A\n",
      "(…)apybarahermes-2.5-mistral-7b.Q4_K_M.gguf:  91%|▉| 4.00G/4.37G [00:03<00:21, 1\u001b[A\n",
      "(…)apybarahermes-2.5-mistral-7b.Q4_K_M.gguf:  92%|▉| 4.01G/4.37G [00:03<00:21, 1\u001b[A\n",
      "(…)apybarahermes-2.5-mistral-7b.Q4_K_M.gguf:  92%|▉| 4.02G/4.37G [00:04<00:19, 1\u001b[A\n",
      "(…)apybarahermes-2.5-mistral-7b.Q4_K_M.gguf:  92%|▉| 4.03G/4.37G [00:04<00:19, 1\u001b[A\n",
      "(…)apybarahermes-2.5-mistral-7b.Q4_K_M.gguf:  92%|▉| 4.04G/4.37G [00:05<00:18, 1\u001b[A\n",
      "(…)apybarahermes-2.5-mistral-7b.Q4_K_M.gguf:  93%|▉| 4.05G/4.37G [00:05<00:18, 1\u001b[A\n",
      "(…)apybarahermes-2.5-mistral-7b.Q4_K_M.gguf:  93%|▉| 4.06G/4.37G [00:06<00:17, 1\u001b[A\n",
      "(…)apybarahermes-2.5-mistral-7b.Q4_K_M.gguf:  93%|▉| 4.07G/4.37G [00:07<00:17, 1\u001b[A\n",
      "(…)apybarahermes-2.5-mistral-7b.Q4_K_M.gguf:  93%|▉| 4.08G/4.37G [00:07<00:16, 1\u001b[A\n",
      "(…)apybarahermes-2.5-mistral-7b.Q4_K_M.gguf:  94%|▉| 4.09G/4.37G [00:08<00:15, 1\u001b[A\n",
      "(…)apybarahermes-2.5-mistral-7b.Q4_K_M.gguf:  94%|▉| 4.10G/4.37G [00:08<00:14, 1\u001b[A\n",
      "(…)apybarahermes-2.5-mistral-7b.Q4_K_M.gguf:  94%|▉| 4.11G/4.37G [00:09<00:15, 1\u001b[A\n",
      "(…)apybarahermes-2.5-mistral-7b.Q4_K_M.gguf:  94%|▉| 4.12G/4.37G [00:10<00:15, 1\u001b[A\n",
      "(…)apybarahermes-2.5-mistral-7b.Q4_K_M.gguf:  95%|▉| 4.13G/4.37G [00:11<00:15, 1\u001b[A\n",
      "(…)apybarahermes-2.5-mistral-7b.Q4_K_M.gguf:  95%|▉| 4.14G/4.37G [00:11<00:14, 1\u001b[A\n",
      "(…)apybarahermes-2.5-mistral-7b.Q4_K_M.gguf:  95%|▉| 4.15G/4.37G [00:12<00:12, 1\u001b[A\n",
      "(…)apybarahermes-2.5-mistral-7b.Q4_K_M.gguf:  95%|▉| 4.16G/4.37G [00:12<00:12, 1\u001b[A\n",
      "(…)apybarahermes-2.5-mistral-7b.Q4_K_M.gguf:  96%|▉| 4.17G/4.37G [00:13<00:11, 1\u001b[A\n",
      "(…)apybarahermes-2.5-mistral-7b.Q4_K_M.gguf:  96%|▉| 4.18G/4.37G [00:14<00:10, 1\u001b[A\n",
      "(…)apybarahermes-2.5-mistral-7b.Q4_K_M.gguf:  96%|▉| 4.19G/4.37G [00:14<00:09, 1\u001b[A\n",
      "(…)apybarahermes-2.5-mistral-7b.Q4_K_M.gguf:  96%|▉| 4.20G/4.37G [00:15<00:08, 1\u001b[A\n",
      "(…)apybarahermes-2.5-mistral-7b.Q4_K_M.gguf:  96%|▉| 4.22G/4.37G [00:15<00:08, 1\u001b[A\n",
      "(…)apybarahermes-2.5-mistral-7b.Q4_K_M.gguf:  97%|▉| 4.23G/4.37G [00:16<00:07, 1\u001b[A\n",
      "(…)apybarahermes-2.5-mistral-7b.Q4_K_M.gguf:  97%|▉| 4.24G/4.37G [00:17<00:08, 1\u001b[A\n",
      "(…)apybarahermes-2.5-mistral-7b.Q4_K_M.gguf:  97%|▉| 4.25G/4.37G [00:19<00:13, 8\u001b[A\n",
      "(…)apybarahermes-2.5-mistral-7b.Q4_K_M.gguf:  97%|▉| 4.26G/4.37G [00:22<00:18, 6\u001b[A\n",
      "(…)apybarahermes-2.5-mistral-7b.Q4_K_M.gguf:  98%|▉| 4.27G/4.37G [00:25<00:18, 5\u001b[A\n",
      "(…)apybarahermes-2.5-mistral-7b.Q4_K_M.gguf:  98%|▉| 4.28G/4.37G [00:25<00:14, 6\u001b[A\n",
      "(…)apybarahermes-2.5-mistral-7b.Q4_K_M.gguf:  98%|▉| 4.29G/4.37G [00:26<00:09, 7\u001b[A\n",
      "(…)apybarahermes-2.5-mistral-7b.Q4_K_M.gguf:  98%|▉| 4.30G/4.37G [00:27<00:07, 9\u001b[A\n",
      "(…)apybarahermes-2.5-mistral-7b.Q4_K_M.gguf:  99%|▉| 4.31G/4.37G [00:27<00:05, 1\u001b[A\n",
      "(…)apybarahermes-2.5-mistral-7b.Q4_K_M.gguf:  99%|▉| 4.32G/4.37G [00:28<00:03, 1\u001b[A\n",
      "(…)apybarahermes-2.5-mistral-7b.Q4_K_M.gguf:  99%|▉| 4.33G/4.37G [00:28<00:02, 1\u001b[A\n",
      "(…)apybarahermes-2.5-mistral-7b.Q4_K_M.gguf:  99%|▉| 4.34G/4.37G [00:29<00:01, 1\u001b[A\n",
      "(…)apybarahermes-2.5-mistral-7b.Q4_K_M.gguf: 100%|▉| 4.35G/4.37G [00:30<00:01, 1\u001b[A\n",
      "(…)apybarahermes-2.5-mistral-7b.Q4_K_M.gguf: 100%|▉| 4.36G/4.37G [00:30<00:00, 1\u001b[A\n",
      "(…)apybarahermes-2.5-mistral-7b.Q4_K_M.gguf: 100%|█| 4.37G/4.37G [00:30<00:00, 1\u001b[A\n",
      "(…)apybarahermes-2.5-mistral-7b.Q4_K_M.gguf:  90%|▉| 3.94G/4.37G [20:27<02:12, 3\n",
      "Download complete. Moving file to capybarahermes-2.5-mistral-7b.Q4_K_M.gguf\n",
      "capybarahermes-2.5-mistral-7b.Q4_K_M.gguf\n"
     ]
    }
   ],
   "source": [
    "! huggingface-cli download TheBloke/CapybaraHermes-2.5-Mistral-7B-GGUF capybarahermes-2.5-mistral-7b.Q4_K_M.gguf --local-dir . --local-dir-use-symlinks False"
   ]
  },
  {
   "cell_type": "code",
   "execution_count": null,
   "metadata": {},
   "outputs": [],
   "source": []
  }
 ],
 "metadata": {
  "kernelspec": {
   "display_name": "Python 3",
   "language": "python",
   "name": "python3"
  },
  "language_info": {
   "codemirror_mode": {
    "name": "ipython",
    "version": 3
   },
   "file_extension": ".py",
   "mimetype": "text/x-python",
   "name": "python",
   "nbconvert_exporter": "python",
   "pygments_lexer": "ipython3",
   "version": "3.11.11"
  }
 },
 "nbformat": 4,
 "nbformat_minor": 2
}
